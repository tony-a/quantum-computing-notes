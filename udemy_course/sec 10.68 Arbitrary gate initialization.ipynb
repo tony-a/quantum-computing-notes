{
 "cells": [
  {
   "cell_type": "code",
   "execution_count": 1,
   "id": "f7c1b20e-aeeb-4507-a22a-49a00995ad07",
   "metadata": {},
   "outputs": [],
   "source": [
    "from qiskit import QuantumCircuit, QuantumRegister\n",
    "q = QuantumRegister(2)\n",
    "qc = QuantumCircuit(q)"
   ]
  },
  {
   "cell_type": "code",
   "execution_count": 2,
   "id": "11567080-d1a2-4e1e-8d30-e057468abe7a",
   "metadata": {},
   "outputs": [
    {
     "data": {
      "text/latex": [
       "$$ |00\\rangle$$"
      ],
      "text/plain": [
       "<IPython.core.display.Latex object>"
      ]
     },
     "execution_count": 2,
     "metadata": {},
     "output_type": "execute_result"
    }
   ],
   "source": [
    "from qiskit.quantum_info import Statevector\n",
    "psi1 = Statevector(qc)\n",
    "psi1.draw('latex')"
   ]
  },
  {
   "cell_type": "code",
   "execution_count": 3,
   "id": "b3edb697-5548-4d74-9d4f-be1e4398ae42",
   "metadata": {},
   "outputs": [],
   "source": [
    "from qiskit.quantum_info import Operator"
   ]
  },
  {
   "cell_type": "code",
   "execution_count": 4,
   "id": "e98df663-2178-4e0a-a001-56b8f5934a88",
   "metadata": {},
   "outputs": [],
   "source": [
    "# let's create the Identity gate, using the generic Operator function\n",
    "# by providing the Matrix value of the gate.\n",
    "# since we have two qubits, the gate has to be 4x4\n",
    "id2 = Operator([[1, 0, 0, 0], [0, 1, 0, 0], [0, 0, 1, 0], [0, 0, 0, 1]])"
   ]
  },
  {
   "cell_type": "code",
   "execution_count": 5,
   "id": "c757ee45-7443-40b1-bd9d-390ad38f4547",
   "metadata": {},
   "outputs": [
    {
     "data": {
      "text/plain": [
       "<qiskit.circuit.instructionset.InstructionSet at 0x124acbdc0>"
      ]
     },
     "execution_count": 5,
     "metadata": {},
     "output_type": "execute_result"
    }
   ],
   "source": [
    "# let's apply the generic I gate on the qubits using the unitary function\n",
    "qc.unitary(id2, [q[0], q[1]], label='Id2')"
   ]
  },
  {
   "cell_type": "code",
   "execution_count": 6,
   "id": "d0de4dbd-bacb-4ead-ac85-b8e360b5b9c6",
   "metadata": {},
   "outputs": [
    {
     "data": {
      "image/png": "[encoded data removed]",
      "text/plain": [
       "<Figure size 159.633x144.48 with 1 Axes>"
      ]
     },
     "execution_count": 6,
     "metadata": {},
     "output_type": "execute_result"
    }
   ],
   "source": [
    "qc.draw('mpl')"
   ]
  },
  {
   "cell_type": "code",
   "execution_count": 7,
   "id": "f89587d6-6176-42e7-a982-cb2a50ccf7c9",
   "metadata": {},
   "outputs": [
    {
     "data": {
      "text/latex": [
       "$$ |00\\rangle$$"
      ],
      "text/plain": [
       "<IPython.core.display.Latex object>"
      ]
     },
     "execution_count": 7,
     "metadata": {},
     "output_type": "execute_result"
    }
   ],
   "source": [
    "psi2 = Statevector(qc)\n",
    "psi2.draw('latex')"
   ]
  },
  {
   "cell_type": "code",
   "execution_count": null,
   "id": "56c6d296-7b59-43ad-82c2-ea8e776a91a8",
   "metadata": {},
   "outputs": [],
   "source": []
  }
 ],
 "metadata": {
  "kernelspec": {
   "display_name": "Python 3 (ipykernel)",
   "language": "python",
   "name": "python3"
  },
  "language_info": {
   "codemirror_mode": {
    "name": "ipython",
    "version": 3
   },
   "file_extension": ".py",
   "mimetype": "text/x-python",
   "name": "python",
   "nbconvert_exporter": "python",
   "pygments_lexer": "ipython3",
   "version": "3.10.0"
  }
 },
 "nbformat": 4,
 "nbformat_minor": 5
}
