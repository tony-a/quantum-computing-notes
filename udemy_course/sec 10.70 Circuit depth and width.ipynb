{
 "cells": [
  {
   "cell_type": "code",
   "execution_count": 1,
   "id": "10137bf2-8223-4b61-b9e6-8f882a50923e",
   "metadata": {},
   "outputs": [],
   "source": [
    "# examining width and depth of quantum circuits\n",
    "from qiskit import QuantumCircuit, QuantumRegister, ClassicalRegister\n",
    "q = QuantumRegister(2)\n",
    "c = ClassicalRegister(2)\n",
    "qc = QuantumCircuit(q, c)"
   ]
  },
  {
   "cell_type": "code",
   "execution_count": 2,
   "id": "512a5523-61fd-4ecb-9ef3-eb3f7c467be8",
   "metadata": {},
   "outputs": [
    {
     "data": {
      "image/png": "[encoded data removed]",
      "text/plain": [
       "<Figure size 520.833x204.68 with 1 Axes>"
      ]
     },
     "execution_count": 2,
     "metadata": {},
     "output_type": "execute_result"
    }
   ],
   "source": [
    "# let's apply a bunch of random gates\n",
    "for i in range(4):\n",
    "    qc.x(q[0])\n",
    "    \n",
    "qc.barrier()\n",
    "\n",
    "for j in range(2):\n",
    "    qc.cx(q[0], q[1])\n",
    "    \n",
    "qc.draw('mpl')"
   ]
  },
  {
   "cell_type": "code",
   "execution_count": 3,
   "id": "a8b660ff-9b20-425f-be1b-7bb8a04b2b3b",
   "metadata": {},
   "outputs": [
    {
     "data": {
      "text/plain": [
       "6"
      ]
     },
     "execution_count": 3,
     "metadata": {},
     "output_type": "execute_result"
    }
   ],
   "source": [
    "qc.depth()"
   ]
  },
  {
   "cell_type": "code",
   "execution_count": 4,
   "id": "f92cf529-7837-4f28-a51a-0c3623c53d86",
   "metadata": {},
   "outputs": [
    {
     "data": {
      "text/plain": [
       "4"
      ]
     },
     "execution_count": 4,
     "metadata": {},
     "output_type": "execute_result"
    }
   ],
   "source": [
    "qc.width()  # width is total qubits + classical bits"
   ]
  },
  {
   "cell_type": "code",
   "execution_count": 5,
   "id": "070658d9-25e5-4270-8778-de777da7c934",
   "metadata": {},
   "outputs": [],
   "source": [
    "q1 = QuantumRegister(3)\n",
    "qc1 = QuantumCircuit(q1)"
   ]
  },
  {
   "cell_type": "code",
   "execution_count": 6,
   "id": "22a208df-241d-4e39-a28a-880e4a014a46",
   "metadata": {},
   "outputs": [
    {
     "data": {
      "image/png": "[encoded data removed]",
      "text/plain": [
       "<Figure size 159.923x204.68 with 1 Axes>"
      ]
     },
     "execution_count": 6,
     "metadata": {},
     "output_type": "execute_result"
    }
   ],
   "source": [
    "qc1.ccx(q1[0], q1[1], q1[2])\n",
    "qc1.draw('mpl')"
   ]
  },
  {
   "cell_type": "code",
   "execution_count": 7,
   "id": "b6b35200-87cb-413e-a799-521406bc75f8",
   "metadata": {},
   "outputs": [
    {
     "data": {
      "text/plain": [
       "1"
      ]
     },
     "execution_count": 7,
     "metadata": {},
     "output_type": "execute_result"
    }
   ],
   "source": [
    "qc1.depth()"
   ]
  },
  {
   "cell_type": "code",
   "execution_count": 8,
   "id": "6d99ede9-ec24-4eb6-8e99-0b3b6de29768",
   "metadata": {},
   "outputs": [
    {
     "data": {
      "image/png": "[encoded data removed]",
      "text/plain": [
       "<Figure size 761.923x204.68 with 1 Axes>"
      ]
     },
     "execution_count": 8,
     "metadata": {},
     "output_type": "execute_result"
    }
   ],
   "source": [
    "qc1.decompose().draw('mpl')"
   ]
  },
  {
   "cell_type": "code",
   "execution_count": 9,
   "id": "2192f246-4214-45c6-8b8a-2fcfdf87df3b",
   "metadata": {},
   "outputs": [
    {
     "data": {
      "text/plain": [
       "11"
      ]
     },
     "execution_count": 9,
     "metadata": {},
     "output_type": "execute_result"
    }
   ],
   "source": [
    "qc1.decompose().depth()"
   ]
  },
  {
   "cell_type": "code",
   "execution_count": 10,
   "id": "19af8069-682f-4eb2-b9d4-8626daff0f24",
   "metadata": {},
   "outputs": [
    {
     "data": {
      "text/plain": [
       "3"
      ]
     },
     "execution_count": 10,
     "metadata": {},
     "output_type": "execute_result"
    }
   ],
   "source": [
    "qc1.width()  # since we don't have any classical bits, the width is just 3"
   ]
  },
  {
   "cell_type": "code",
   "execution_count": null,
   "id": "2fbe5c4f-02ab-4a85-9d27-ffeb472c288c",
   "metadata": {},
   "outputs": [],
   "source": []
  }
 ],
 "metadata": {
  "kernelspec": {
   "display_name": "Python 3 (ipykernel)",
   "language": "python",
   "name": "python3"
  },
  "language_info": {
   "codemirror_mode": {
    "name": "ipython",
    "version": 3
   },
   "file_extension": ".py",
   "mimetype": "text/x-python",
   "name": "python",
   "nbconvert_exporter": "python",
   "pygments_lexer": "ipython3",
   "version": "3.10.0"
  }
 },
 "nbformat": 4,
 "nbformat_minor": 5
}
